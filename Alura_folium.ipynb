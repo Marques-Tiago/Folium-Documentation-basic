{
  "nbformat": 4,
  "nbformat_minor": 0,
  "metadata": {
    "colab": {
      "provenance": [],
      "mount_file_id": "18kxKCuK5HZ6EyRTbGvQg_xZ1WsD3XsEy",
      "authorship_tag": "ABX9TyPThO126DrTPvF69DqdoveA",
      "include_colab_link": true
    },
    "kernelspec": {
      "name": "python3",
      "display_name": "Python 3"
    },
    "language_info": {
      "name": "python"
    }
  },
  "cells": [
    {
      "cell_type": "markdown",
      "metadata": {
        "id": "view-in-github",
        "colab_type": "text"
      },
      "source": [
        "<a href=\"https://colab.research.google.com/github/Marques-Tiago/Folium-Documentation-basic/blob/main/Alura_folium.ipynb\" target=\"_parent\"><img src=\"https://colab.research.google.com/assets/colab-badge.svg\" alt=\"Open In Colab\"/></a>"
      ]
    },
    {
      "cell_type": "code",
      "execution_count": null,
      "metadata": {
        "id": "ISSdW5-gw8k0"
      },
      "outputs": [],
      "source": [
        "import geopandas as gpd\n",
        "import folium"
      ]
    },
    {
      "cell_type": "markdown",
      "source": [
        "**Linkando a variável mg ao banco de dados com os polígonos de Minas**"
      ],
      "metadata": {
        "id": "5lsctGx9zEXq"
      }
    },
    {
      "cell_type": "code",
      "source": [
        "mg = gpd.read_file('/content/drive/MyDrive/Dev_way/Python/Folium/MG_Malha_Preliminar_2022.shp')\n",
        "mg"
      ],
      "metadata": {
        "id": "KhD7_yoKynEB"
      },
      "execution_count": null,
      "outputs": []
    },
    {
      "cell_type": "markdown",
      "source": [
        "**Abrindo em formato de mapa**"
      ],
      "metadata": {
        "id": "N7QUER0EzRcK"
      }
    },
    {
      "cell_type": "code",
      "source": [
        "mg.plot();"
      ],
      "metadata": {
        "id": "tZi6hyiOy7Yr"
      },
      "execution_count": null,
      "outputs": []
    },
    {
      "cell_type": "markdown",
      "source": [
        "**Filtrando apenas para a delimitação de Belo Horizonte**"
      ],
      "metadata": {
        "id": "AqCmaBPH0aXR"
      }
    },
    {
      "cell_type": "code",
      "source": [
        "cidade_bh = mg[mg['NM_MUN'] == 'Belo Horizonte'];\n",
        "cidade_bh;\n",
        "cidade_bh.plot();"
      ],
      "metadata": {
        "id": "v9_Lz8LAzWEe"
      },
      "execution_count": null,
      "outputs": []
    },
    {
      "cell_type": "markdown",
      "source": [
        "**Função comum para abrir o mapa no Folium:**\n",
        "\n",
        "  folium.Map (location = [Inserir localização] zoom_start = Inserir o tamanho do zoom )"
      ],
      "metadata": {
        "id": "jSfWtNcv1rc5"
      }
    },
    {
      "cell_type": "code",
      "source": [
        "mapa_bh = folium.Map(location = [-19.80, -44.05],\n",
        "                     zoom_start= 11);\n",
        "\n",
        "mapa_bh"
      ],
      "metadata": {
        "id": "ZwuLmi8V0-UR"
      },
      "execution_count": null,
      "outputs": []
    },
    {
      "cell_type": "markdown",
      "source": [
        "Folium.TileLayer ('Nome da Camada para o folium importar', name = 'Nome que vai aparecer').add_to(para adicionar no mapa que você quiser)\n",
        "\n",
        "**Função para adicionar a caixa de controle de camadas:**\n",
        "\n",
        "folium.LayerControl().add_to(mapa que você quer adicionar)\n",
        "\n",
        "**Função para salvar o mapa**\n",
        "\n",
        "nome_mapa.save('localização' + 'nome do arquivo')\n",
        "\n",
        "**Documentação sobre os tipos de mapas que podem ser adicionados:**\n",
        "\n",
        "https://python-visualization.github.io/folium/latest/reference.html"
      ],
      "metadata": {
        "id": "oQJMLxdz2Gcy"
      }
    },
    {
      "cell_type": "code",
      "source": [
        "mapa_bh = folium.Map(location = [-19.80, -44.05],\n",
        "                     zoom_start= 11,\n",
        "                     tiles = 'cartodbpositron',\n",
        "                     name = 'Carto Positron');\n",
        "\n",
        "folium.TileLayer('cartodbdark_matter', name = 'Dark').add_to(mapa_bh)\n",
        "folium.TileLayer('https://tile.openstreetmap.org/{z}/{x}/{y}.png', name = 'Map ink',\n",
        "                 attr = '&copy; <a href=\"https://www.openstreetmap.org/copyright\">OpenStreetMap</a> contributors').add_to(mapa_bh),\n",
        "\n",
        "folium.LayerControl().add_to(mapa_bh)\n",
        "\n",
        "mapa_bh.save('/content/drive/MyDrive/Dev_way/Python/Folium/'+'mapa_bh.html')\n",
        "\n",
        "mapa_bh"
      ],
      "metadata": {
        "id": "qSZy-opb2Gr5"
      },
      "execution_count": null,
      "outputs": []
    },
    {
      "cell_type": "markdown",
      "source": [
        "**Aqui, eu criei uma variável que vai utilizar a função Dissolve pela medida da coluna NM_SUBDIST, salvando a variável**"
      ],
      "metadata": {
        "id": "7BE4IAcT9EQh"
      }
    },
    {
      "cell_type": "code",
      "source": [
        "subdist_bh = cidade_bh.dissolve(by = 'NM_SUBDIST');\n",
        "subdist_bh.plot();\n"
      ],
      "metadata": {
        "id": "fWbvJh_U9Ett"
      },
      "execution_count": null,
      "outputs": []
    },
    {
      "cell_type": "markdown",
      "source": [
        "**Para encontrar o nome da coluna na base de dados, podemos utilizar os comandos variavel.columns ou variavel.head() para vasculhar as informações.**"
      ],
      "metadata": {
        "id": "6lY4bb7WEUgw"
      }
    },
    {
      "cell_type": "code",
      "source": [
        "subdist_bh.columns;\n"
      ],
      "metadata": {
        "id": "48xac28lCE14"
      },
      "execution_count": null,
      "outputs": []
    },
    {
      "cell_type": "markdown",
      "source": [
        "**Uma apresentação inserindo a variável camada subdist_bh no mapa interativo**\n",
        "\n",
        "\n",
        "**A variável precisa ser convertida para GeoJson para funcionar**\n",
        "\n",
        "folium.GeoJson (variável, name = 'Nome da variável que vai aparecer no mapa').add_to(nome do mapa para adicionar);"
      ],
      "metadata": {
        "id": "yTRcreBBBdTU"
      }
    },
    {
      "cell_type": "code",
      "source": [
        "mapa_bh = folium.Map(location = [-19.80, -44.05],\n",
        "                     zoom_start= 11,\n",
        "                     tiles = 'cartodbpositron',\n",
        "                     name = 'Carto Positron');\n",
        "\n",
        "folium.TileLayer('cartodbdark_matter', name = 'Dark').add_to(mapa_bh)\n",
        "folium.TileLayer('https://tile.openstreetmap.org/{z}/{x}/{y}.png', name = 'Map ink',\n",
        "                 attr = '&copy; <a href=\"https://www.openstreetmap.org/copyright\">OpenStreetMap</a> contributors').add_to(mapa_bh),\n",
        "folium.GeoJson(subdist_bh, name = 'Subdistritos de Belo Horizonte').add_to(mapa_bh);\n",
        "\n",
        "folium.LayerControl().add_to(mapa_bh)\n",
        "\n",
        "mapa_bh"
      ],
      "metadata": {
        "id": "gg33MUmGAKhs"
      },
      "execution_count": null,
      "outputs": []
    },
    {
      "cell_type": "markdown",
      "source": [
        "**Criando o polígono da cidade de BH + Adicionando no mapa**"
      ],
      "metadata": {
        "id": "sJHlnoGNDTH9"
      }
    },
    {
      "cell_type": "code",
      "source": [
        "cidade_bh = cidade_bh.dissolve(by = 'NM_MUN');\n",
        "\n",
        "mapa_bh = folium.Map(location = [-19.80, -44.05],\n",
        "                     zoom_start= 11,\n",
        "                     tiles = 'cartodbpositron',\n",
        "                     name = 'Carto Positron');\n",
        "\n",
        "folium.TileLayer('cartodbdark_matter', name = 'Dark').add_to(mapa_bh)\n",
        "folium.TileLayer('https://tile.openstreetmap.org/{z}/{x}/{y}.png', name = 'Map ink',\n",
        "                 attr = '&copy; <a href=\"https://www.openstreetmap.org/copyright\">OpenStreetMap</a> contributors').add_to(mapa_bh),\n",
        "folium.GeoJson(cidade_bh, name = 'Contorno de Belo Horizonte').add_to(mapa_bh);\n",
        "\n",
        "folium.LayerControl().add_to(mapa_bh)\n",
        "\n",
        "mapa_bh"
      ],
      "metadata": {
        "id": "rYC3kt8JDTdJ"
      },
      "execution_count": null,
      "outputs": []
    },
    {
      "cell_type": "markdown",
      "source": [
        "Adicionei duas novas variáveis: helipontos e bairros de BH"
      ],
      "metadata": {
        "id": "bl02hdsLEqJD"
      }
    },
    {
      "cell_type": "code",
      "source": [
        "heliponto_bh = gpd.read_file('/content/drive/MyDrive/Dev_way/Python/Folium/HELIPONTO/HELIPONTO.shp');\n",
        "bairros_bh = gpd.read_file('/content/drive/MyDrive/Dev_way/Python/Folium/BAIRRO_OFICIAL/BAIRRO_OFICIAL.shp');\n",
        "\n",
        "bairros_bh.plot();"
      ],
      "metadata": {
        "id": "9a5LcKjaEput"
      },
      "execution_count": null,
      "outputs": []
    },
    {
      "cell_type": "markdown",
      "source": [
        "**POPUP's**\n",
        "\n",
        "Existem diversas maneiras de trabalhar com popups. Documentação:\n",
        "\n",
        "https://python-visualization.github.io/folium/latest/user_guide/ui_elements/popups.html\n",
        "\n",
        "Aqui, foi utilizado a seguinte construção:\n",
        "\n",
        "folium.GeoJson(variavel utilizada, name = 'nome da variavel', popup=folium.features.GeoJsonPopup(fields=['nome das colunas que serão exibidas'])).add_to(nome do mapa);"
      ],
      "metadata": {
        "id": "MAh_O1K-QesY"
      }
    },
    {
      "cell_type": "code",
      "source": [
        "mapa_bh = folium.Map(location = [-19.80, -44.05],\n",
        "                     zoom_start= 11,\n",
        "                     tiles = 'cartodbpositron',\n",
        "                     name = 'Carto Positron');\n",
        "\n",
        "folium.TileLayer('cartodbdark_matter', name = 'Dark').add_to(mapa_bh)\n",
        "folium.TileLayer('https://tile.openstreetmap.org/{z}/{x}/{y}.png', name = 'Map ink',\n",
        "                 attr = '&copy; <a href=\"https://www.openstreetmap.org/copyright\">OpenStreetMap</a> contributors').add_to(mapa_bh),\n",
        "folium.GeoJson(heliponto_bh, name = 'Helipontos de Belo Horizonte').add_to(mapa_bh);\n",
        "folium.GeoJson(cidade_bh, name = 'Contorno da cidade de Belo Horizonte').add_to(mapa_bh);\n",
        "folium.GeoJson(bairros_bh, name='Bairros de Belo Horizonte', popup=folium.features.GeoJsonPopup(fields=['NOME'])).add_to(mapa_bh);\n",
        "\n",
        "\n",
        "folium.LayerControl().add_to(mapa_bh)\n",
        "mapa_bh.save('/content/drive/MyDrive/Dev_way/Python/Folium/' + 'mapa_teste.html')\n",
        "mapa_bh"
      ],
      "metadata": {
        "id": "jHhHiWHmH12z"
      },
      "execution_count": null,
      "outputs": []
    }
  ]
}